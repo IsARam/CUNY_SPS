{
 "cells": [
  {
   "cell_type": "markdown",
   "metadata": {},
   "source": [
    "Isabel R.\n",
    "\"Hello, graph world\""
   ]
  },
  {
   "cell_type": "markdown",
   "metadata": {},
   "source": [
    "The purpose of this assignment is to create nodes and edges of a basic graph; symbolizing a simple social network. The NetworkX graph package is used to create the graph from a adjacency list. In our case, we use a dictionary of lists to define the people in the network, nodes, and the network they are associated with, edges."
   ]
  },
  {
   "cell_type": "code",
   "execution_count": 12,
   "metadata": {},
   "outputs": [],
   "source": [
    "import networkx as nx\n",
    "import matplotlib.pyplot as plt"
   ]
  },
  {
   "cell_type": "code",
   "execution_count": 14,
   "metadata": {},
   "outputs": [],
   "source": [
    "adj_lst = {\"Andre\" : [\"Beverly\", \"Carol\", \"Diane\", \"Fernando\"],\n",
    "           \"Beverly\" : [\"Diane\", \"Ed\", \"Garth\"],\n",
    "           \"Carol\" : [\"Diane\", \"Carol\", \"Fernando\"],\n",
    "           \"Diane\" : [\"Ed\", \"Fernando\", \"Garth\"],\n",
    "           \"Ed\" : [\"Garth\"],\n",
    "           \"Fernando\" : [\"Garth\" , \"Heather\"],\n",
    "           \"Garth\" : [\"Heather\"],\n",
    "           \"Heather\" : [\"Ike\"],\n",
    "           \"Ike\" : [\"Jane\"]}\n",
    "\n",
    "# Graph object\n",
    "G = nx.Graph(adj_lst)"
   ]
  },
  {
   "cell_type": "code",
   "execution_count": 17,
   "metadata": {},
   "outputs": [],
   "source": [
    "# nx.draw(G, with_labels = True)\n",
    "plt.show()"
   ]
  },
  {
   "cell_type": "code",
   "execution_count": null,
   "metadata": {},
   "outputs": [],
   "source": []
  }
 ],
 "metadata": {
  "kernelspec": {
   "display_name": "Python 3",
   "language": "python",
   "name": "python3"
  },
  "language_info": {
   "codemirror_mode": {
    "name": "ipython",
    "version": 3
   },
   "file_extension": ".py",
   "mimetype": "text/x-python",
   "name": "python",
   "nbconvert_exporter": "python",
   "pygments_lexer": "ipython3",
   "version": "3.7.3"
  }
 },
 "nbformat": 4,
 "nbformat_minor": 2
}
